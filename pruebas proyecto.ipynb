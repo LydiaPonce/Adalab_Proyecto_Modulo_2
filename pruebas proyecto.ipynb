{
 "cells": [
  {
   "cell_type": "code",
   "execution_count": 1,
   "metadata": {},
   "outputs": [],
   "source": [
    "import pandas as pd\n",
    "import xml.etree.ElementTree as ET\n",
    "import numpy as np\n",
    "import matplotlib.pyplot as plt\n",
    "import seaborn as sns\n"
   ]
  },
  {
   "cell_type": "code",
   "execution_count": 2,
   "metadata": {},
   "outputs": [],
   "source": [
    "df=pd.read_csv(\"./Prueba new csv.csv\",index_col=0)"
   ]
  },
  {
   "cell_type": "markdown",
   "metadata": {},
   "source": [
    "---"
   ]
  },
  {
   "cell_type": "code",
   "execution_count": 3,
   "metadata": {},
   "outputs": [],
   "source": [
    "df= df[(df[\"pais\"].isin([\"United States of America\",\"Spain\"])) &\n",
    "                 (df[\"experiencia_programando\"].isin([\"10-20 years\"]))& \n",
    "                (df[\"perfil_profesional\"].isin([\"Data Scientist\"]))]"
   ]
  },
  {
   "cell_type": "code",
   "execution_count": 4,
   "metadata": {},
   "outputs": [
    {
     "data": {
      "text/html": [
       "<div>\n",
       "<style scoped>\n",
       "    .dataframe tbody tr th:only-of-type {\n",
       "        vertical-align: middle;\n",
       "    }\n",
       "\n",
       "    .dataframe tbody tr th {\n",
       "        vertical-align: top;\n",
       "    }\n",
       "\n",
       "    .dataframe thead th {\n",
       "        text-align: right;\n",
       "    }\n",
       "</style>\n",
       "<table border=\"1\" class=\"dataframe\">\n",
       "  <thead>\n",
       "    <tr style=\"text-align: right;\">\n",
       "      <th></th>\n",
       "      <th>Kaggle</th>\n",
       "      <th>Github</th>\n",
       "    </tr>\n",
       "  </thead>\n",
       "  <tbody>\n",
       "    <tr>\n",
       "      <th>0</th>\n",
       "      <td>3065</td>\n",
       "      <td>4586</td>\n",
       "    </tr>\n",
       "  </tbody>\n",
       "</table>\n",
       "</div>"
      ],
      "text/plain": [
       "   Kaggle  Github\n",
       "0    3065    4586"
      ]
     },
     "execution_count": 4,
     "metadata": {},
     "output_type": "execute_result"
    }
   ],
   "source": [
    "df_publicaciones= pd.DataFrame([{'Kaggle': 3065,\n",
    "     'Github': 4586}])\n",
    "df_publicaciones"
   ]
  },
  {
   "cell_type": "code",
   "execution_count": 5,
   "metadata": {},
   "outputs": [
    {
     "data": {
      "text/plain": [
       "<AxesSubplot:>"
      ]
     },
     "execution_count": 5,
     "metadata": {},
     "output_type": "execute_result"
    },
    {
     "data": {
      "image/png": "[encoded data removed]",
      "text/plain": [
       "<Figure size 432x288 with 1 Axes>"
      ]
     },
     "metadata": {
      "needs_background": "light"
     },
     "output_type": "display_data"
    }
   ],
   "source": [
    "#Cual usan mas\n",
    "df_publicaciones.plot.bar()"
   ]
  },
  {
   "cell_type": "code",
   "execution_count": 6,
   "metadata": {},
   "outputs": [
    {
     "data": {
      "text/plain": [
       "<Figure size 432x288 with 0 Axes>"
      ]
     },
     "metadata": {},
     "output_type": "display_data"
    },
    {
     "data": {
      "image/png": "[encoded data removed]",
      "text/plain": [
       "<Figure size 432x288 with 1 Axes>"
      ]
     },
     "metadata": {
      "needs_background": "light"
     },
     "output_type": "display_data"
    }
   ],
   "source": [
    "plt.figure()\n",
    "df_publicaciones.plot.bar(color=('turquoise', 'teal'), edgecolor='black')\n",
    "plt.xlabel('Kaggle              Github')\n",
    "plt.title('Plataforma de publicaciones más utilizada');"
   ]
  },
  {
   "cell_type": "markdown",
   "metadata": {},
   "source": [
    "-----"
   ]
  },
  {
   "cell_type": "code",
   "execution_count": 7,
   "metadata": {},
   "outputs": [
    {
     "data": {
      "text/plain": [
       "Index(['edad', 'genero', 'pais', 'educacion', 'perfil_profesional',\n",
       "       'experiencia_programando', 'herramientas_trabajo',\n",
       "       'año_uso_machine_learning', 'industria_actual', 'tamaño_compañía',\n",
       "       'trabajadores_datascience', 'salario', 'herramienta_analisis_datos',\n",
       "       'lenguajes_habituales', 'entorno_desarrollo',\n",
       "       'bibliotecas_visualización', 'herramientas_machine_learning',\n",
       "       'programas_big_data', 'herramientas_bi', 'notebooks_kaggle',\n",
       "       'notebooks_colab', 'publicaciones_github', 'publicaciones_kaggle',\n",
       "       'plat_coursera', 'plat_edx', 'plat_kaggle', 'plat_datacamp',\n",
       "       'plat_fast.ai', 'plat_udacity', 'plat_udemy', 'plat_linkedinlearning',\n",
       "       'plat_cloudcertification', 'plat_universitycourses', 'plat_ninguno',\n",
       "       'plat_otros', 'rrss_twitter', 'rrss_email/newsletters', 'rrss_reddit',\n",
       "       'rrss_kaggle', 'rrss_forums', 'rrss_yotube', 'rrss_podcast',\n",
       "       'rrss_blogs', 'rrss_journal', 'rrss_slackcommunity', 'rrss_none',\n",
       "       'rrss_others'],\n",
       "      dtype='object')"
      ]
     },
     "execution_count": 7,
     "metadata": {},
     "output_type": "execute_result"
    }
   ],
   "source": [
    "df.columns"
   ]
  },
  {
   "cell_type": "code",
   "execution_count": 8,
   "metadata": {},
   "outputs": [],
   "source": [
    "diccionario={'plat_edx': [], 'plat_kaggle':[],'plat_coursera': [], 'plat_datacamp': [],  'plat_udacity': [], 'plat_linkedinlearning': [], 'plat_udemy':[],'plat_cloudcertification':[],'plat_otros':[]}"
   ]
  },
  {
   "cell_type": "code",
   "execution_count": 9,
   "metadata": {},
   "outputs": [],
   "source": [
    "# for key in diccionario.keys():\n",
    "#     print(key)\n",
    "#     diccionario[key].append(diccionario[key].value_counts()[0])\n"
   ]
  },
  {
   "cell_type": "code",
   "execution_count": 10,
   "metadata": {},
   "outputs": [],
   "source": [
    "diccionario[\"plat_edx\"].append(df[\"plat_edx\"].value_counts()[0])\n",
    "diccionario[\"plat_kaggle\"].append(df[\"plat_kaggle\"].value_counts()[0])\n",
    "diccionario[\"plat_coursera\"].append(df[\"plat_coursera\"].value_counts()[0])\n",
    "diccionario[\"plat_datacamp\"].append(df[\"plat_datacamp\"].value_counts()[0])\n",
    "diccionario[\"plat_udacity\"].append(df[\"plat_udacity\"].value_counts()[0])\n",
    "diccionario[\"plat_linkedinlearning\"].append(df[\"plat_linkedinlearning\"].value_counts()[0])\n",
    "diccionario[\"plat_udemy\"].append(df[\"plat_udemy\"].value_counts()[0])\n",
    "diccionario[\"plat_cloudcertification\"].append(df[\"plat_cloudcertification\"].value_counts()[0])\n",
    "diccionario[\"plat_otros\"].append(df[\"plat_otros\"].value_counts()[0])"
   ]
  },
  {
   "cell_type": "code",
   "execution_count": 11,
   "metadata": {},
   "outputs": [
    {
     "data": {
      "text/html": [
       "<div>\n",
       "<style scoped>\n",
       "    .dataframe tbody tr th:only-of-type {\n",
       "        vertical-align: middle;\n",
       "    }\n",
       "\n",
       "    .dataframe tbody tr th {\n",
       "        vertical-align: top;\n",
       "    }\n",
       "\n",
       "    .dataframe thead th {\n",
       "        text-align: right;\n",
       "    }\n",
       "</style>\n",
       "<table border=\"1\" class=\"dataframe\">\n",
       "  <thead>\n",
       "    <tr style=\"text-align: right;\">\n",
       "      <th></th>\n",
       "      <th>plat_edx</th>\n",
       "      <th>plat_kaggle</th>\n",
       "      <th>plat_coursera</th>\n",
       "      <th>plat_datacamp</th>\n",
       "      <th>plat_udacity</th>\n",
       "      <th>plat_linkedinlearning</th>\n",
       "      <th>plat_udemy</th>\n",
       "      <th>plat_cloudcertification</th>\n",
       "      <th>plat_otros</th>\n",
       "    </tr>\n",
       "  </thead>\n",
       "  <tbody>\n",
       "    <tr>\n",
       "      <th>0</th>\n",
       "      <td>24</td>\n",
       "      <td>37</td>\n",
       "      <td>81</td>\n",
       "      <td>28</td>\n",
       "      <td>27</td>\n",
       "      <td>15</td>\n",
       "      <td>30</td>\n",
       "      <td>16</td>\n",
       "      <td>2</td>\n",
       "    </tr>\n",
       "  </tbody>\n",
       "</table>\n",
       "</div>"
      ],
      "text/plain": [
       "   plat_edx  plat_kaggle  plat_coursera  plat_datacamp  plat_udacity  \\\n",
       "0        24           37             81             28            27   \n",
       "\n",
       "   plat_linkedinlearning  plat_udemy  plat_cloudcertification  plat_otros  \n",
       "0                     15          30                       16           2  "
      ]
     },
     "execution_count": 11,
     "metadata": {},
     "output_type": "execute_result"
    }
   ],
   "source": [
    "df_plataformas= pd.DataFrame(diccionario)\n",
    "df_plataformas"
   ]
  },
  {
   "cell_type": "code",
   "execution_count": 12,
   "metadata": {},
   "outputs": [
    {
     "data": {
      "text/plain": [
       "<AxesSubplot:>"
      ]
     },
     "execution_count": 12,
     "metadata": {},
     "output_type": "execute_result"
    },
    {
     "data": {
      "image/png": "[encoded data removed]",
      "text/plain": [
       "<Figure size 432x288 with 1 Axes>"
      ]
     },
     "metadata": {
      "needs_background": "light"
     },
     "output_type": "display_data"
    }
   ],
   "source": [
    "#Plataforma cursos\n",
    "df_plataformas.plot.bar()"
   ]
  },
  {
   "cell_type": "code",
   "execution_count": 13,
   "metadata": {},
   "outputs": [
    {
     "data": {
      "text/plain": [
       "<Figure size 432x288 with 0 Axes>"
      ]
     },
     "metadata": {},
     "output_type": "display_data"
    },
    {
     "data": {
      "image/png": "[encoded data removed]",
      "text/plain": [
       "<Figure size 432x288 with 1 Axes>"
      ]
     },
     "metadata": {
      "needs_background": "light"
     },
     "output_type": "display_data"
    }
   ],
   "source": [
    "plt.figure()\n",
    "df_plataformas.plot.bar(color=('magenta', 'pink', 'orchid', 'hotpink', 'darkmagenta', 'palevioletred', \n",
    "                                'plum', 'mediumorchid', 'lightpink'), edgecolor='black')\n",
    "plt.title('Plataforma de cursos más utilizada');"
   ]
  },
  {
   "cell_type": "code",
   "execution_count": 14,
   "metadata": {},
   "outputs": [],
   "source": [
    "dicc={'rrss_twitter': [], 'rrss_email/newsletters':[],'rrss_reddit': [], 'rrss_kaggle': [],  'rrss_forums': [], 'rrss_yotube': [], 'rrss_podcast':[],'rrss_blogs':[],'rrss_journal':[],'rrss_slackcommunity':[],'rrss_none':[],'rrss_others':[] }"
   ]
  },
  {
   "cell_type": "code",
   "execution_count": 15,
   "metadata": {},
   "outputs": [],
   "source": [
    "\n",
    "dicc['rrss_twitter'].append(df['rrss_twitter'].value_counts()[0])\n",
    "dicc['rrss_email/newsletters'].append(df['rrss_email/newsletters'].value_counts()[0])\n",
    "dicc['rrss_reddit'].append(df['rrss_reddit'].value_counts()[0])\n",
    "dicc['rrss_kaggle'].append(df['rrss_kaggle'].value_counts()[0])\n",
    "dicc['rrss_forums'].append(df['rrss_forums'].value_counts()[0])\n",
    "dicc['rrss_yotube'].append(df['rrss_yotube'].value_counts()[0])\n",
    "dicc['rrss_podcast'].append(df['rrss_podcast'].value_counts()[0])\n",
    "dicc['rrss_blogs'].append(df['rrss_blogs'].value_counts()[0])\n",
    "dicc['rrss_journal'].append(df['rrss_journal'].value_counts()[0])\n",
    "dicc['rrss_slackcommunity'].append(df['rrss_slackcommunity'].value_counts()[0])\n",
    "dicc['rrss_none'].append(df['rrss_none'].value_counts()[0])\n",
    "dicc['rrss_others'].append(df['rrss_others'].value_counts()[0])"
   ]
  },
  {
   "cell_type": "code",
   "execution_count": 16,
   "metadata": {},
   "outputs": [
    {
     "data": {
      "text/html": [
       "<div>\n",
       "<style scoped>\n",
       "    .dataframe tbody tr th:only-of-type {\n",
       "        vertical-align: middle;\n",
       "    }\n",
       "\n",
       "    .dataframe tbody tr th {\n",
       "        vertical-align: top;\n",
       "    }\n",
       "\n",
       "    .dataframe thead th {\n",
       "        text-align: right;\n",
       "    }\n",
       "</style>\n",
       "<table border=\"1\" class=\"dataframe\">\n",
       "  <thead>\n",
       "    <tr style=\"text-align: right;\">\n",
       "      <th></th>\n",
       "      <th>rrss_twitter</th>\n",
       "      <th>rrss_email/newsletters</th>\n",
       "      <th>rrss_reddit</th>\n",
       "      <th>rrss_kaggle</th>\n",
       "      <th>rrss_forums</th>\n",
       "      <th>rrss_yotube</th>\n",
       "      <th>rrss_podcast</th>\n",
       "      <th>rrss_blogs</th>\n",
       "      <th>rrss_journal</th>\n",
       "      <th>rrss_slackcommunity</th>\n",
       "      <th>rrss_none</th>\n",
       "      <th>rrss_others</th>\n",
       "    </tr>\n",
       "  </thead>\n",
       "  <tbody>\n",
       "    <tr>\n",
       "      <th>0</th>\n",
       "      <td>37</td>\n",
       "      <td>34</td>\n",
       "      <td>18</td>\n",
       "      <td>56</td>\n",
       "      <td>13</td>\n",
       "      <td>32</td>\n",
       "      <td>16</td>\n",
       "      <td>76</td>\n",
       "      <td>40</td>\n",
       "      <td>14</td>\n",
       "      <td>7</td>\n",
       "      <td>8</td>\n",
       "    </tr>\n",
       "  </tbody>\n",
       "</table>\n",
       "</div>"
      ],
      "text/plain": [
       "   rrss_twitter  rrss_email/newsletters  rrss_reddit  rrss_kaggle  \\\n",
       "0            37                      34           18           56   \n",
       "\n",
       "   rrss_forums  rrss_yotube  rrss_podcast  rrss_blogs  rrss_journal  \\\n",
       "0           13           32            16          76            40   \n",
       "\n",
       "   rrss_slackcommunity  rrss_none  rrss_others  \n",
       "0                   14          7            8  "
      ]
     },
     "execution_count": 16,
     "metadata": {},
     "output_type": "execute_result"
    }
   ],
   "source": [
    "df_rrss= pd.DataFrame(dicc)\n",
    "df_rrss"
   ]
  },
  {
   "cell_type": "code",
   "execution_count": 17,
   "metadata": {},
   "outputs": [
    {
     "data": {
      "text/plain": [
       "<AxesSubplot:>"
      ]
     },
     "execution_count": 17,
     "metadata": {},
     "output_type": "execute_result"
    },
    {
     "data": {
      "image/png": "[encoded data removed]",
      "text/plain": [
       "<Figure size 432x288 with 1 Axes>"
      ]
     },
     "metadata": {
      "needs_background": "light"
     },
     "output_type": "display_data"
    }
   ],
   "source": [
    "#Donde publican estudios\n",
    "df_rrss.plot.bar()"
   ]
  },
  {
   "cell_type": "markdown",
   "metadata": {},
   "source": [
    "---"
   ]
  },
  {
   "cell_type": "markdown",
   "metadata": {},
   "source": [
    "-----"
   ]
  },
  {
   "cell_type": "markdown",
   "metadata": {},
   "source": [
    "# PRUEBAS CON SALARIO"
   ]
  },
  {
   "cell_type": "markdown",
   "metadata": {},
   "source": [
    "Quitar rangos mensuales"
   ]
  },
  {
   "cell_type": "code",
   "execution_count": 24,
   "metadata": {},
   "outputs": [],
   "source": [
    "df.salario.value_counts()\n",
    "\n",
    "df_total = df[(df[\"salario\"].isin([\"10,000-14,999\",\"30,000-39,999\", \"100,000-124,999\", \"50,000-59,999 \",\"40,000-49,999\",\n",
    "\"20,000-24,999\",\"15,000-19,999\", \"60,000-69,999\",\"25,000-29,999\", \"70,000-79,999\",\"150,000-199,999\",\"80,000-89,999 \"]))]\n"
   ]
  },
  {
   "cell_type": "code",
   "execution_count": 25,
   "metadata": {},
   "outputs": [
    {
     "data": {
      "text/plain": [
       "array(['150,000-199,999', '100,000-124,999', '70,000-79,999',\n",
       "       '40,000-49,999', '60,000-69,999', '10,000-14,999'], dtype=object)"
      ]
     },
     "execution_count": 25,
     "metadata": {},
     "output_type": "execute_result"
    }
   ],
   "source": [
    "df_total.salario.unique()"
   ]
  },
  {
   "cell_type": "code",
   "execution_count": 26,
   "metadata": {},
   "outputs": [],
   "source": [
    "\n",
    "import seaborn as sns\n",
    "import sidetable\n",
    "import matplotlib.pyplot as plt\n",
    "import re"
   ]
  },
  {
   "cell_type": "code",
   "execution_count": 27,
   "metadata": {},
   "outputs": [
    {
     "data": {
      "text/plain": [
       "Index(['edad', 'genero', 'pais', 'educacion', 'perfil_profesional',\n",
       "       'experiencia_programando', 'herramientas_trabajo',\n",
       "       'año_uso_machine_learning', 'industria_actual', 'tamaño_compañía',\n",
       "       'trabajadores_datascience', 'salario', 'herramienta_analisis_datos',\n",
       "       'lenguajes_habituales', 'entorno_desarrollo',\n",
       "       'bibliotecas_visualización', 'herramientas_machine_learning',\n",
       "       'programas_big_data', 'herramientas_bi', 'notebooks_kaggle',\n",
       "       'notebooks_colab', 'publicaciones_github', 'publicaciones_kaggle',\n",
       "       'plat_coursera', 'plat_edx', 'plat_kaggle', 'plat_datacamp',\n",
       "       'plat_fast.ai', 'plat_udacity', 'plat_udemy', 'plat_linkedinlearning',\n",
       "       'plat_cloudcertification', 'plat_universitycourses', 'plat_ninguno',\n",
       "       'plat_otros', 'rrss_twitter', 'rrss_email/newsletters', 'rrss_reddit',\n",
       "       'rrss_kaggle', 'rrss_forums', 'rrss_yotube', 'rrss_podcast',\n",
       "       'rrss_blogs', 'rrss_journal', 'rrss_slackcommunity', 'rrss_none',\n",
       "       'rrss_others'],\n",
       "      dtype='object')"
      ]
     },
     "execution_count": 27,
     "metadata": {},
     "output_type": "execute_result"
    }
   ],
   "source": [
    "df_total.columns"
   ]
  },
  {
   "cell_type": "code",
   "execution_count": 28,
   "metadata": {},
   "outputs": [
    {
     "data": {
      "image/png": "[encoded data removed]",
      "text/plain": [
       "<Figure size 842.4x595.44 with 1 Axes>"
      ]
     },
     "metadata": {},
     "output_type": "display_data"
    }
   ],
   "source": [
    "sns.set(rc={'figure.figsize':(11.7,8.27)})\n",
    "sns.countplot(x=\"salario\", data=df_total,hue=\"industria_actual\", palette=\"rocket\")\n",
    "plt.legend(loc='upper right')\n",
    "sns.set(font_scale = 2);"
   ]
  },
  {
   "cell_type": "markdown",
   "metadata": {},
   "source": [
    "Aunque ya se podría incluir en esta definición a cualquier “empleado que opera con datos”, el Data Science se relaciona con el profesional con capacidad de analizar grandes cantidades de datos, relacionándose con la aplicación de herramientas de gestión de bases de datos hasta con otras muy avanzadas como lo son el Big Data o el Machine Learning."
   ]
  },
  {
   "cell_type": "code",
   "execution_count": 32,
   "metadata": {},
   "outputs": [
    {
     "data": {
      "text/plain": [
       "Index(['edad', 'genero', 'pais', 'educacion', 'perfil_profesional',\n",
       "       'experiencia_programando', 'herramientas_trabajo',\n",
       "       'año_uso_machine_learning', 'industria_actual', 'tamaño_compañía',\n",
       "       'trabajadores_datascience', 'salario', 'herramienta_analisis_datos',\n",
       "       'lenguajes_habituales', 'entorno_desarrollo',\n",
       "       'bibliotecas_visualización', 'herramientas_machine_learning',\n",
       "       'programas_big_data', 'herramientas_bi', 'notebooks_kaggle',\n",
       "       'notebooks_colab', 'publicaciones_github', 'publicaciones_kaggle',\n",
       "       'plat_coursera', 'plat_edx', 'plat_kaggle', 'plat_datacamp',\n",
       "       'plat_fast.ai', 'plat_udacity', 'plat_udemy', 'plat_linkedinlearning',\n",
       "       'plat_cloudcertification', 'plat_universitycourses', 'plat_ninguno',\n",
       "       'plat_otros', 'rrss_twitter', 'rrss_email/newsletters', 'rrss_reddit',\n",
       "       'rrss_kaggle', 'rrss_forums', 'rrss_yotube', 'rrss_podcast',\n",
       "       'rrss_blogs', 'rrss_journal', 'rrss_slackcommunity', 'rrss_none',\n",
       "       'rrss_others'],\n",
       "      dtype='object')"
      ]
     },
     "execution_count": 32,
     "metadata": {},
     "output_type": "execute_result"
    }
   ],
   "source": [
    "df_total.columns\n"
   ]
  },
  {
   "cell_type": "code",
   "execution_count": 34,
   "metadata": {},
   "outputs": [
    {
     "data": {
      "text/plain": [
       "array(['Scikit-learn ,PyTorch ,Fast.ai ',\n",
       "       'Scikit-learn , TensorFlow ,Keras ,PyTorch ,Xgboost ,LightGBM ,Prophet ',\n",
       "       'Scikit-learn ,PyTorch ,Fast.ai ,LightGBM ',\n",
       "       'Scikit-learn , TensorFlow ', 'Scikit-learn ,Xgboost ',\n",
       "       'Scikit-learn ,Xgboost ,LightGBM ,CatBoost ', ' TensorFlow ',\n",
       "       'Scikit-learn , TensorFlow ,Keras ,Xgboost ,H2O 3 ,Caret ',\n",
       "       'Scikit-learn , TensorFlow ,Keras ,PyTorch ,Xgboost ,Prophet ,H2O 3 ,Caret ',\n",
       "       'Scikit-learn , TensorFlow ,Keras ,PyTorch ,Xgboost ,LightGBM ,CatBoost ,Prophet ,Huggingface ',\n",
       "       'Scikit-learn ,Xgboost ,LightGBM ',\n",
       "       'Scikit-learn , TensorFlow ,Keras ,PyTorch ', 'Scikit-learn ',\n",
       "       'Keras ,PyTorch Lightning ', 'Scikit-learn ,PyTorch ',\n",
       "       'Scikit-learn , TensorFlow ,Keras ,Xgboost ,Prophet ,Caret ',\n",
       "       'Scikit-learn , TensorFlow ,Keras ,PyTorch ,Xgboost ,LightGBM ,CatBoost ,H2O 3 ',\n",
       "       'Scikit-learn , TensorFlow ,Keras ', nan,\n",
       "       'Scikit-learn , TensorFlow ,Keras ,Xgboost ,H2O 3 ',\n",
       "       'Xgboost ,LightGBM ,Caret ', 'Scikit-learn ,H2O 3 ',\n",
       "       ' TensorFlow ,Keras ,PyTorch ',\n",
       "       'Scikit-learn ,Keras ,Xgboost ,Caret ',\n",
       "       'Scikit-learn ,Keras ,PyTorch ,Fast.ai ,Xgboost ,LightGBM ,CatBoost ,H2O 3 ,Caret ,Huggingface ',\n",
       "       ' TensorFlow ,Keras ,Xgboost ', 'Scikit-learn ,Xgboost ,Caret ',\n",
       "       'Scikit-learn , TensorFlow ,Keras ,Xgboost ',\n",
       "       'Scikit-learn , TensorFlow ,PyTorch ,Fast.ai ',\n",
       "       'Scikit-learn ,PyTorch ,Xgboost ,LightGBM ,Prophet ', ' Other',\n",
       "       'Scikit-learn ,Keras ,Xgboost ,Prophet ', ' None',\n",
       "       ' TensorFlow ,PyTorch ,Xgboost ',\n",
       "       'Scikit-learn , TensorFlow ,Keras ,Xgboost ,LightGBM ',\n",
       "       'Scikit-learn , TensorFlow ,Keras ,Xgboost ,LightGBM ,H2O 3 ,Caret ',\n",
       "       'Scikit-learn ,PyTorch ,Prophet ,PyTorch Lightning ,Huggingface ',\n",
       "       'PyTorch ,Xgboost ,LightGBM ,H2O 3 ,Huggingface ',\n",
       "       'Scikit-learn ,Xgboost ,LightGBM ,CatBoost ,Prophet ,Caret ,Tidymodels ',\n",
       "       'Scikit-learn , TensorFlow ,Keras ,Xgboost ,LightGBM ,Caret ',\n",
       "       'Scikit-learn , TensorFlow ,Keras ,Fast.ai ,Huggingface ',\n",
       "       'Scikit-learn , TensorFlow ,PyTorch ,Xgboost ',\n",
       "       'Scikit-learn , TensorFlow ,Keras ,PyTorch ,LightGBM ,CatBoost ,Prophet ,PyTorch Lightning ,Huggingface ',\n",
       "       'Scikit-learn , TensorFlow ,Xgboost ,LightGBM ,Prophet ,H2O 3 ,Caret ',\n",
       "       'Scikit-learn , TensorFlow ,Keras ,PyTorch ,Xgboost ,Caret ',\n",
       "       'Scikit-learn , TensorFlow ,Keras ,PyTorch ,Xgboost ,LightGBM ,CatBoost ,Prophet ,H2O 3 ,Caret ',\n",
       "       'Scikit-learn ,PyTorch ,Xgboost ,LightGBM ,CatBoost ,Huggingface ',\n",
       "       'Scikit-learn ,Keras ,Xgboost ',\n",
       "       'Scikit-learn , TensorFlow ,Keras ,PyTorch ,Fast.ai ,Xgboost ,LightGBM ,CatBoost ,Prophet ,H2O 3 ',\n",
       "       'Scikit-learn , TensorFlow ,Keras ,Xgboost ,LightGBM ,CatBoost ,Prophet ,Huggingface ',\n",
       "       'Scikit-learn ,Xgboost ,LightGBM ,Prophet ',\n",
       "       'Scikit-learn , TensorFlow ,Xgboost ,LightGBM ,H2O 3 ',\n",
       "       'Scikit-learn ,PyTorch ,Xgboost ,LightGBM ,CatBoost ,H2O 3 ',\n",
       "       'Scikit-learn , TensorFlow ,LightGBM ',\n",
       "       'Scikit-learn ,Xgboost ,Prophet ',\n",
       "       'Scikit-learn , TensorFlow ,Keras ,PyTorch ,Huggingface ',\n",
       "       'Tidymodels ',\n",
       "       'Scikit-learn ,PyTorch ,Fast.ai ,Xgboost ,LightGBM ,Prophet ,Tidymodels ,Huggingface ',\n",
       "       'Scikit-learn ,PyTorch ,Xgboost ,LightGBM ,PyTorch Lightning ,Huggingface ',\n",
       "       'Scikit-learn ,PyTorch ,Caret ,JAX ',\n",
       "       'Scikit-learn ,Xgboost , Other', 'Scikit-learn ,Keras ',\n",
       "       'Scikit-learn ,PyTorch ,Xgboost ,LightGBM ,H2O 3 ,PyTorch Lightning ,Huggingface ',\n",
       "       'Scikit-learn , TensorFlow ,Keras ,PyTorch ,Xgboost ,LightGBM ,Prophet ,Huggingface ',\n",
       "       'Scikit-learn ,Keras ,Caret ,Tidymodels ',\n",
       "       'Scikit-learn , TensorFlow ,Keras ,Xgboost ,LightGBM ,CatBoost ',\n",
       "       'Scikit-learn ,Prophet ',\n",
       "       'Scikit-learn , TensorFlow ,Keras ,PyTorch ,Xgboost ,LightGBM ,Caret ',\n",
       "       'Scikit-learn ,Prophet ,H2O 3 ',\n",
       "       'Scikit-learn , TensorFlow ,Keras ,PyTorch ,H2O 3 ,PyTorch Lightning ',\n",
       "       'Scikit-learn ,LightGBM ',\n",
       "       'Scikit-learn , TensorFlow ,Keras ,PyTorch ,Xgboost ',\n",
       "       'Scikit-learn ,Fast.ai ,LightGBM ',\n",
       "       'Scikit-learn ,Tidymodels ,Huggingface ',\n",
       "       'Scikit-learn , TensorFlow ,PyTorch ,Xgboost ,Prophet ,Huggingface ',\n",
       "       'Scikit-learn , TensorFlow ,Keras ,Huggingface ',\n",
       "       'Scikit-learn ,MXNet ,CatBoost , Other',\n",
       "       'Scikit-learn , TensorFlow ,Xgboost ',\n",
       "       'Scikit-learn , TensorFlow ,Keras ,PyTorch ,Xgboost ,LightGBM ,Prophet ,Caret ,Tidymodels ,Huggingface '],\n",
       "      dtype=object)"
      ]
     },
     "execution_count": 34,
     "metadata": {},
     "output_type": "execute_result"
    }
   ],
   "source": [
    "df.herramientas_machine_learning.unique() "
   ]
  },
  {
   "cell_type": "code",
   "execution_count": null,
   "metadata": {},
   "outputs": [],
   "source": [
    "df.programas_big_data.unique() "
   ]
  },
  {
   "cell_type": "code",
   "execution_count": 29,
   "metadata": {},
   "outputs": [],
   "source": [
    "import re"
   ]
  },
  {
   "cell_type": "code",
   "execution_count": 50,
   "metadata": {},
   "outputs": [],
   "source": [
    "def patrones (col):\n",
    "    patron_scikit= r\"[Ss]cikit-learn\"\n",
    "    patron_flow=r\"[Tt]ensorFlow\"\n",
    "    patron_keras=r\"[Kk]eras\"\n",
    "    patron_pytorch=r\"[Pp]yTorch\"\n",
    "    patron_xgboost=r\"[XX]gboost\"\n",
    "\n",
    "    scikit_lista= []\n",
    "    flow_lista=[]\n",
    "    keras_lista=[]\n",
    "    pytorch_lista=[]\n",
    "    xgboost_lista=[]\n",
    "\n",
    "    try:\n",
    "        scikit=re.finall(patron_scikit,col)\n",
    "        flow=re.findall(patron_flow,col)\n",
    "        keras=re.findall(patron_keras,col)\n",
    "        pytorch=re.findall(patron_pytorch,col)\n",
    "        xgboost=re.findall(patron_xgboost,col)\n",
    "\n",
    "\n",
    "\n",
    "        if len(scikit) !=0:\n",
    "            scikit_lista.append[\"X\"]\n",
    "        if len(flow) !=0:\n",
    "            flow_lista.append[\"X\"]\n",
    "        if len(keras) !=0:\n",
    "            keras_lista.append[\"X\"]\n",
    "        if len(pytorch) !=0:\n",
    "            pytorch_lista.append[\"X\"]\n",
    "        if len(xgboost) !=0:\n",
    "            xgboost_lista.append[\"X\"]\n",
    "        else:\n",
    "            pass\n",
    "\n",
    "    except:\n",
    "        pass\n",
    "\n",
    "    diccionario_bigdata= {\"scikit\":scikit_lista,\"flow\":flow_lista, \"keras\":keras_lista, \"pytorch\":pytorch_lista, \"xgboost\":xgboost_lista}\n",
    "\n",
    "    return diccionario_bigdata\n",
    "\n",
    "    "
   ]
  },
  {
   "cell_type": "code",
   "execution_count": null,
   "metadata": {},
   "outputs": [],
   "source": [
    "df_total[\"big_data\"] = df_total[\"programas_big_data\"].apply(patrones)\n",
    "df_total"
   ]
  },
  {
   "cell_type": "code",
   "execution_count": 52,
   "metadata": {},
   "outputs": [
    {
     "data": {
      "text/html": [
       "<div>\n",
       "<style scoped>\n",
       "    .dataframe tbody tr th:only-of-type {\n",
       "        vertical-align: middle;\n",
       "    }\n",
       "\n",
       "    .dataframe tbody tr th {\n",
       "        vertical-align: top;\n",
       "    }\n",
       "\n",
       "    .dataframe thead th {\n",
       "        text-align: right;\n",
       "    }\n",
       "</style>\n",
       "<table border=\"1\" class=\"dataframe\">\n",
       "  <thead>\n",
       "    <tr style=\"text-align: right;\">\n",
       "      <th></th>\n",
       "      <th>scikit</th>\n",
       "      <th>flow</th>\n",
       "      <th>keras</th>\n",
       "      <th>pytorch</th>\n",
       "      <th>xgboost</th>\n",
       "    </tr>\n",
       "  </thead>\n",
       "  <tbody>\n",
       "    <tr>\n",
       "      <th>287</th>\n",
       "      <td>[]</td>\n",
       "      <td>[]</td>\n",
       "      <td>[]</td>\n",
       "      <td>[]</td>\n",
       "      <td>[]</td>\n",
       "    </tr>\n",
       "    <tr>\n",
       "      <th>393</th>\n",
       "      <td>[]</td>\n",
       "      <td>[]</td>\n",
       "      <td>[]</td>\n",
       "      <td>[]</td>\n",
       "      <td>[]</td>\n",
       "    </tr>\n",
       "  </tbody>\n",
       "</table>\n",
       "</div>"
      ],
      "text/plain": [
       "    scikit flow keras pytorch xgboost\n",
       "287     []   []    []      []      []\n",
       "393     []   []    []      []      []"
      ]
     },
     "execution_count": 52,
     "metadata": {},
     "output_type": "execute_result"
    }
   ],
   "source": [
    "big_data= df_total[\"big_data\"].apply(pd.Series)\n",
    "big_data.head(2)"
   ]
  },
  {
   "cell_type": "code",
   "execution_count": null,
   "metadata": {},
   "outputs": [],
   "source": [
    "total= pd.DataFrame()\n",
    "total[\"programa\"]=x.keys()\n",
    "total[\"usuarios\"]=x.values()\n",
    "total.head(2)\n"
   ]
  },
  {
   "cell_type": "code",
   "execution_count": null,
   "metadata": {},
   "outputs": [],
   "source": [
    "total[\"porcentaje sobre el total\"]= total[\"usuarios\"].apply(lambda x:(x/df_total.shape[0]*100))\n",
    "total"
   ]
  }
 ],
 "metadata": {
  "interpreter": {
   "hash": "40d3a090f54c6569ab1632332b64b2c03c39dcf918b08424e98f38b5ae0af88f"
  },
  "kernelspec": {
   "display_name": "Python 3.9.7 ('base')",
   "language": "python",
   "name": "python3"
  },
  "language_info": {
   "codemirror_mode": {
    "name": "ipython",
    "version": 3
   },
   "file_extension": ".py",
   "mimetype": "text/x-python",
   "name": "python",
   "nbconvert_exporter": "python",
   "pygments_lexer": "ipython3",
   "version": "3.9.7"
  },
  "orig_nbformat": 4
 },
 "nbformat": 4,
 "nbformat_minor": 2
}
